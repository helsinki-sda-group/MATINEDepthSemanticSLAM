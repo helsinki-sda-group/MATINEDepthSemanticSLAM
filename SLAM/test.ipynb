{
 "cells": [
  {
   "cell_type": "code",
   "execution_count": 1,
   "metadata": {},
   "outputs": [],
   "source": [
    "from torch_geometric.data import HeteroData\n",
    "import torch\n",
    "\n",
    "data = HeteroData()\n",
    "\n",
    "# Create two node types \"paper\" and \"author\" holding a feature matrix:\n",
    "data['paper'].x = torch.randn(2, 5)\n",
    "data['author'].x = torch.randn(2, 5)\n",
    "\n",
    "# Create an edge type \"(author, writes, paper)\" and building the\n",
    "# graph connectivity:\n",
    "data['author', 'writes', 'paper'].edge_index = torch.randn(2, 5)  # [2, num_edges]\n",
    "\n",
    "data['paper'].num_nodes\n",
    "data['author', 'writes', 'paper'].num_edges\n",
    "\n",
    "# PyTorch tensor functionality:\n",
    "data = data.to('cuda:0', non_blocking=True)"
   ]
  },
  {
   "cell_type": "code",
   "execution_count": null,
   "metadata": {},
   "outputs": [],
   "source": []
  },
  {
   "cell_type": "code",
   "execution_count": 2,
   "metadata": {},
   "outputs": [
    {
     "ename": "ModuleNotFoundError",
     "evalue": "No module named 'pandas'",
     "output_type": "error",
     "traceback": [
      "\u001b[0;31m---------------------------------------------------------------------------\u001b[0m",
      "\u001b[0;31mModuleNotFoundError\u001b[0m                       Traceback (most recent call last)",
      "Cell \u001b[0;32mIn[2], line 2\u001b[0m\n\u001b[1;32m      1\u001b[0m \u001b[38;5;28;01mimport\u001b[39;00m \u001b[38;5;21;01mnumpy\u001b[39;00m \u001b[38;5;28;01mas\u001b[39;00m \u001b[38;5;21;01mnp\u001b[39;00m\n\u001b[0;32m----> 2\u001b[0m \u001b[38;5;28;01mimport\u001b[39;00m \u001b[38;5;21;01mpandas\u001b[39;00m \u001b[38;5;28;01mas\u001b[39;00m \u001b[38;5;21;01mpd\u001b[39;00m\n\u001b[1;32m      3\u001b[0m \u001b[38;5;28;01mimport\u001b[39;00m \u001b[38;5;21;01mos\u001b[39;00m\n",
      "\u001b[0;31mModuleNotFoundError\u001b[0m: No module named 'pandas'"
     ]
    }
   ],
   "source": [
    "import numpy as np\n",
    "import pandas as pd\n",
    "import os"
   ]
  },
  {
   "cell_type": "code",
   "execution_count": null,
   "metadata": {},
   "outputs": [
    {
     "ename": "",
     "evalue": "",
     "output_type": "error",
     "traceback": [
      "\u001b[1;31mThe kernel failed to start due to the missing module 'typing_extensions'. Consider installing this module.\n",
      "\u001b[1;31mClick <a href='https://aka.ms/kernelFailuresMissingModule'>here</a> for more info."
     ]
    }
   ],
   "source": [
    "df = pd.read_csv('/home/ilari/Downloads/indoor_forward_6_snapdragon_with_gt/left_images.txt', delimiter=' ', skiprows=1, header=None)\n",
    "image_times = dict(zip(df[1], df[2]))"
   ]
  },
  {
   "cell_type": "code",
   "execution_count": null,
   "metadata": {},
   "outputs": [
    {
     "ename": "",
     "evalue": "",
     "output_type": "error",
     "traceback": [
      "\u001b[1;31mThe kernel failed to start due to the missing module 'typing_extensions'. Consider installing this module.\n",
      "\u001b[1;31mClick <a href='https://aka.ms/kernelFailuresMissingModule'>here</a> for more info."
     ]
    }
   ],
   "source": [
    "df[1]"
   ]
  },
  {
   "cell_type": "markdown",
   "metadata": {},
   "source": [
    "#### Fisheye Model from Pytorch3d"
   ]
  },
  {
   "cell_type": "code",
   "execution_count": null,
   "metadata": {},
   "outputs": [
    {
     "ename": "",
     "evalue": "",
     "output_type": "error",
     "traceback": [
      "\u001b[1;31mThe kernel failed to start due to the missing module 'typing_extensions'. Consider installing this module.\n",
      "\u001b[1;31mClick <a href='https://aka.ms/kernelFailuresMissingModule'>here</a> for more info."
     ]
    }
   ],
   "source": [
    "from pytorch3d.renderer.fisheyecameras import FishEyeCameras\n",
    "from scipy.spatial.transform import Rotation as R"
   ]
  },
  {
   "cell_type": "code",
   "execution_count": null,
   "metadata": {},
   "outputs": [
    {
     "ename": "",
     "evalue": "",
     "output_type": "error",
     "traceback": [
      "\u001b[1;31mThe kernel failed to start due to the missing module 'typing_extensions'. Consider installing this module.\n",
      "\u001b[1;31mClick <a href='https://aka.ms/kernelFailuresMissingModule'>here</a> for more info."
     ]
    }
   ],
   "source": [
    "x = torch.arange(0, 512, 20)\n",
    "y = torch.arange(0, 512, 20)\n",
    "xx, yy = torch.meshgrid(x, y)\n",
    "\n",
    "# Reshape to shape (N, 2)\n",
    "xy = torch.stack([xx.flatten(), yy.flatten()], dim=1)\n",
    "\n",
    "# Add a column of ones to make it shape (N, 3)\n",
    "xy1 = torch.cat([xy, torch.ones(xy.shape[0], 1)], dim=1)"
   ]
  },
  {
   "cell_type": "code",
   "execution_count": null,
   "metadata": {},
   "outputs": [
    {
     "ename": "",
     "evalue": "",
     "output_type": "error",
     "traceback": [
      "\u001b[1;31mThe kernel failed to start due to the missing module 'typing_extensions'. Consider installing this module.\n",
      "\u001b[1;31mClick <a href='https://aka.ms/kernelFailuresMissingModule'>here</a> for more info."
     ]
    }
   ],
   "source": [
    "Rot = R.random().as_matrix()\n",
    "cam = FishEyeCameras(\n",
    "    focal_length=torch.tensor([190.97847715128717]).repeat(2, 1),\n",
    "    principal_point=torch.tensor([[254.93170605935475, 256.8974428996504]]),\n",
    "    radial_params=torch.tensor(\n",
    "        [\n",
    "            [\n",
    "                0.373004838186,\n",
    "                0.372994740336,\n",
    "                0.498890050897,\n",
    "                0.502729380663,\n",
    "                0.00348238940225,\n",
    "                0.000715034845216,\n",
    "            ]\n",
    "        ]\n",
    "    ),\n",
    "    # tangential_params=tensor([[0., 0.]]),\n",
    "    # thin_prism_params=tensor([[0., 0., 0., 0.]]),\n",
    "    R=torch.tensor([np.eye(3)]),\n",
    "    T=torch.tensor([[0.0, 0.0, 0.0]]),\n",
    "    world_coordinates=True,\n",
    "    use_radial=True,\n",
    "    use_tangential=False,\n",
    "    use_thin_prism=False,\n",
    "    device='cpu',\n",
    "    image_size=(512, 512),\n",
    ")\n",
    "\n",
    "out = cam.unproject_points(xy1, world_coordinates=True, scaled_depth_input=False)\n",
    "out"
   ]
  },
  {
   "cell_type": "code",
   "execution_count": null,
   "metadata": {},
   "outputs": [
    {
     "ename": "",
     "evalue": "",
     "output_type": "error",
     "traceback": [
      "\u001b[1;31mThe kernel failed to start due to the missing module 'typing_extensions'. Consider installing this module.\n",
      "\u001b[1;31mClick <a href='https://aka.ms/kernelFailuresMissingModule'>here</a> for more info."
     ]
    }
   ],
   "source": [
    "plt.scatter(*out[:, :2].numpy().T)"
   ]
  },
  {
   "cell_type": "code",
   "execution_count": null,
   "metadata": {},
   "outputs": [
    {
     "ename": "",
     "evalue": "",
     "output_type": "error",
     "traceback": [
      "\u001b[1;31mThe kernel failed to start due to the missing module 'typing_extensions'. Consider installing this module.\n",
      "\u001b[1;31mClick <a href='https://aka.ms/kernelFailuresMissingModule'>here</a> for more info."
     ]
    }
   ],
   "source": [
    "cam.transform_points(out)"
   ]
  }
 ],
 "metadata": {
  "kernelspec": {
   "display_name": "matine",
   "language": "python",
   "name": "python3"
  },
  "language_info": {
   "codemirror_mode": {
    "name": "ipython",
    "version": 3
   },
   "file_extension": ".py",
   "mimetype": "text/x-python",
   "name": "python",
   "nbconvert_exporter": "python",
   "pygments_lexer": "ipython3",
   "version": "3.9.7"
  }
 },
 "nbformat": 4,
 "nbformat_minor": 2
}
