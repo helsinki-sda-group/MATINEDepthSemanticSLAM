{
 "cells": [
  {
   "cell_type": "code",
   "execution_count": 2,
   "metadata": {},
   "outputs": [],
   "source": [
    "import torch\n",
    "import torch.nn as nn\n",
    "from torch_geometric.data import HeteroData"
   ]
  },
  {
   "cell_type": "code",
   "execution_count": null,
   "metadata": {},
   "outputs": [],
   "source": [
    "class SceneGraph(nn.Module):\n",
    "    def __init__(self, init_poses, feature_points, depths, all_matches):\n",
    "        super(SceneGraph, self).__init__()\n",
    "        # Initialize the graph from matches\n",
    "        self.graph = HeteroData()\n",
    "        self.graph[\"camera\"].x = nn.Parameter(init_poses)\n",
    "        self.feature_points = feature_points # Outputs of SuperPoint\n",
    "        \n",
    "        self.matches = \n",
    "        self.populate_graph(all_matches)\n",
    "\n",
    "    def populate_graph(self, all_matches):\n",
    "        # Iterates over the matches and registers_3D points.\n",
    "        pass\n",
    "    def register_3Dpoints(self, cam0, cam1):\n",
    "        # Registers 3D points for specified cameras, which might already exist in the graph.\n",
    "        pass\n",
    "    def match_indices(self, A, B):\n",
    "        # Finds A[indices] == B for 2D tensors A and B.\n",
    "        values, indices = torch.topk(((A.t() == B.unsqueeze(-1)).all(dim=1)).int(), 1, 1)\n",
    "        indices = indices[values != 0]\n",
    "        return indices\n",
    "\n",
    "    def forward(self, graph):\n",
    "        # Calculate reprojection error, does not need to be implemented.\n",
    "        pass\n"
   ]
  }
 ],
 "metadata": {
  "kernelspec": {
   "display_name": "matine",
   "language": "python",
   "name": "python3"
  },
  "language_info": {
   "codemirror_mode": {
    "name": "ipython",
    "version": 3
   },
   "file_extension": ".py",
   "mimetype": "text/x-python",
   "name": "python",
   "nbconvert_exporter": "python",
   "pygments_lexer": "ipython3",
   "version": "3.9.7"
  }
 },
 "nbformat": 4,
 "nbformat_minor": 2
}
