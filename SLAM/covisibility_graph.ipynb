{
 "cells": [
  {
   "cell_type": "code",
   "execution_count": 1,
   "metadata": {},
   "outputs": [
    {
     "name": "stdout",
     "output_type": "stream",
     "text": [
      "3D Points seen by Camera 1: torch.Size([1995, 3])\n",
      "Corresponding 2D pixel coordinates: torch.Size([1995, 2])\n"
     ]
    }
   ],
   "source": [
    "import torch\n",
    "from torch_geometric.data import HeteroData\n",
    "\n",
    "# Initialize HeteroData object\n",
    "graph = HeteroData()\n",
    "\n",
    "# Assume num_cameras cameras and num_points 3D points\n",
    "num_cameras = 1000\n",
    "num_points = int(1e6)\n",
    "num_edges = num_points + int(1e6)\n",
    "\n",
    "# Initialize cameras and points with some example features (e.g., pose for cameras, coordinates for points)\n",
    "graph[\"camera\"].x = torch.randn(num_cameras, 7)  # Example: 6D pose (position + orientation) for each camera\n",
    "graph[\"point\"].x = torch.randn(num_points, 3)  # 3D coordinates for each point\n",
    "\n",
    "# Assuming we have some relationship between cameras and points, represented by edges\n",
    "# For simplicity, let's create random connections with random 2D pixel coordinates as edge attributes\n",
    "\n",
    "# Camera -> Point connections have shape [2, N]\n",
    "edge_index = torch.randint(0, num_cameras, (2, num_edges), dtype=torch.long)  # Randomly connect cameras and points\n",
    "# Pixel coordinates are edge attributes, shape [N, 2]\n",
    "edge_attr = torch.rand(num_edges, 2)\n",
    "\n",
    "# Add edges to the graph (from 'camera' to 'point' with type 'sees')\n",
    "graph[(\"camera\", \"sees\", \"point\")].edge_index = edge_index\n",
    "graph[(\"camera\", \"sees\", \"point\")].edge_attr = edge_attr  # 2D points as edge attributes\n",
    "\n",
    "\n",
    "# Function to retrieve 3D and 2D points seen by a specific camera\n",
    "def get_camera_data(graph, camera_id):\n",
    "    # Find edges originating from the given camera\n",
    "    edges = (graph[(\"camera\", \"sees\", \"point\")].edge_index[0] == camera_id).nonzero().view(-1)\n",
    "\n",
    "    # Get indices of points seen by the camera\n",
    "    point_indices = graph[(\"camera\", \"sees\", \"point\")].edge_index[1][edges]\n",
    "\n",
    "    # Retrieve 3D points and 2D pixel coordinates\n",
    "    points_3d = graph[\"point\"].x[point_indices]\n",
    "    points_2d = graph[(\"camera\", \"sees\", \"point\")].edge_attr[edges]\n",
    "\n",
    "    return points_3d, points_2d\n",
    "\n",
    "\n",
    "# Example usage: Get data for camera 1\n",
    "points_3d, points_2d = get_camera_data(graph, camera_id=999)\n",
    "print(\"3D Points seen by Camera 1:\", points_3d.shape)\n",
    "print(\"Corresponding 2D pixel coordinates:\", points_2d.shape)"
   ]
  },
  {
   "cell_type": "code",
   "execution_count": 6,
   "metadata": {},
   "outputs": [
    {
     "name": "stdout",
     "output_type": "stream",
     "text": [
      "tensor([100, 200, 600])\n",
      "tensor([100, 200, 600])\n",
      "tensor([100, 200, 600])\n",
      "tensor([100, 200, 600])\n",
      "tensor([100, 200, 600])\n",
      "tensor([100, 200, 600])\n",
      "tensor([100, 200, 600])\n",
      "tensor([100, 200, 600])\n",
      "tensor([100, 200, 600])\n",
      "tensor([100, 200, 600])\n"
     ]
    }
   ],
   "source": [
    "for i in range(10):\n",
    "    A = torch.randn(1000, 2)\n",
    "    B = torch.randn(1000, 2)\n",
    "\n",
    "    A[[100, 200, 600], :] = B[[100, 499, 600]]\n",
    "\n",
    "    values, indices = torch.topk(((A.t() == B.unsqueeze(-1)).all(dim=1)).int(), 1, 1)\n",
    "    indices = indices[values != 0]\n",
    "    print(indices)"
   ]
  },
  {
   "cell_type": "code",
   "execution_count": 7,
   "metadata": {},
   "outputs": [],
   "source": [
    "import torch\n",
    "import torch.nn as nn\n",
    "from torch_geometric.data import HeteroData\n",
    "\n",
    "\n",
    "class SceneGraph(nn.Module):\n",
    "    def __init__(self, init_poses, depths, all_matches):\n",
    "        super(SceneGraph, self).__init__()\n",
    "        # Initialize the graph from matches\n",
    "        self.graph = HeteroData()\n",
    "        self.graph[\"camera\"].x = nn.Parameter(init_poses)\n",
    "        self.populate_graph(all_matches)\n",
    "\n",
    "    def populate_graph(self, all_matches):\n",
    "        # Iterates over the matches and registers_3D points.\n",
    "\n",
    "    def register_3Dpoints(self, cam0, cam1):\n",
    "        # Registers 3D points for specified cameras, which might already exist in the graph.\n",
    "\n",
    "    def match_indices(self, A, B):\n",
    "        # Finds A[indices] == B for 2D tensors A and B.\n",
    "        values, indices = torch.topk(((A.t() == B.unsqueeze(-1)).all(dim=1)).int(), 1, 1)\n",
    "        indices = indices[values != 0]\n",
    "        return indices\n",
    "\n",
    "    def forward(self, graph):\n",
    "        # Calculate reprojection error, does not need to be implemented.\n",
    "        pass"
   ]
  }
 ],
 "metadata": {
  "kernelspec": {
   "display_name": "matine",
   "language": "python",
   "name": "python3"
  },
  "language_info": {
   "codemirror_mode": {
    "name": "ipython",
    "version": 3
   },
   "file_extension": ".py",
   "mimetype": "text/x-python",
   "name": "python",
   "nbconvert_exporter": "python",
   "pygments_lexer": "ipython3",
   "version": "3.10.13"
  }
 },
 "nbformat": 4,
 "nbformat_minor": 2
}
